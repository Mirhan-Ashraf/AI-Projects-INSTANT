{
 "cells": [
  {
   "cell_type": "code",
   "execution_count": null,
   "metadata": {
    "execution": {
     "iopub.execute_input": "2022-09-09T19:02:54.417241Z",
     "iopub.status.busy": "2022-09-09T19:02:54.416761Z",
     "iopub.status.idle": "2022-09-09T19:02:54.450207Z",
     "shell.execute_reply": "2022-09-09T19:02:54.449355Z",
     "shell.execute_reply.started": "2022-09-09T19:02:54.417144Z"
    }
   },
   "outputs": [],
   "source": [
    "from IPython.core.display import HTML\n",
    "HTML(\"\"\"\n",
    "<style>\n",
    ".output_png {\n",
    "    display: table-cell;\n",
    "    text-align: center;\n",
    "    vertical-align: middle;\n",
    "    horizontal-align: middle;\n",
    "}\n",
    "h1,h2 {\n",
    "    text-align: center;\n",
    "    background-color: pink;\n",
    "    padding: 20px;\n",
    "    margin: 0;\n",
    "    color: black;\n",
    "    font-family: ariel;\n",
    "    border-radius: 80px\n",
    "}\n",
    "\n",
    "h3 {\n",
    "    text-align: center;\n",
    "    border-style: solid;\n",
    "    border-width: 3px;\n",
    "    padding: 12px;\n",
    "    margin: 0;\n",
    "    color: black;\n",
    "    font-family: ariel;\n",
    "    border-radius: 80px;\n",
    "    border-color: gold;\n",
    "}\n",
    "\n",
    "body, p {\n",
    "    font-family: ariel;\n",
    "    font-size: 15px;\n",
    "    color: charcoal;\n",
    "}\n",
    "div {\n",
    "    font-size: 14px;\n",
    "    margin: 0;\n",
    "\n",
    "}\n",
    "\n",
    "h4 {\n",
    "    padding: 0px;\n",
    "    margin: 0;\n",
    "    font-family: ariel;\n",
    "    color: purple;\n",
    "}\n",
    "</style>\n",
    "\"\"\")"
   ]
  },
  {
   "cell_type": "code",
   "execution_count": null,
   "metadata": {
    "execution": {
     "iopub.execute_input": "2022-09-09T19:02:54.583420Z",
     "iopub.status.busy": "2022-09-09T19:02:54.583000Z",
     "iopub.status.idle": "2022-09-09T19:03:02.565753Z",
     "shell.execute_reply": "2022-09-09T19:03:02.564272Z",
     "shell.execute_reply.started": "2022-09-09T19:02:54.583383Z"
    }
   },
   "outputs": [],
   "source": [
    "# DataFrame\n",
    "import pandas as pd\n",
    "\n",
    "# Matplot\n",
    "import matplotlib.pyplot as plt\n",
    "%matplotlib inline\n",
    "\n",
    "from matplotlib.ticker import MaxNLocator\n",
    "import matplotlib.gridspec as gridspec\n",
    "import matplotlib.patches as mpatches\n",
    "\n",
    "# Scikit-learn\n",
    "from sklearn.model_selection import train_test_split\n",
    "from sklearn.preprocessing import LabelEncoder\n",
    "from sklearn.metrics import confusion_matrix, classification_report, accuracy_score\n",
    "from sklearn.manifold import TSNE\n",
    "from sklearn.feature_extraction.text import CountVectorizer, TfidfVectorizer\n",
    "from sklearn.decomposition import LatentDirichletAllocation, NMF\n",
    "from sklearn.metrics import f1_score, accuracy_score\n",
    "\n",
    "\n",
    "# Keras\n",
    "from keras.preprocessing.text import Tokenizer\n",
    "from keras.preprocessing.sequence import pad_sequences\n",
    "from keras.models import Sequential\n",
    "from keras.layers import Activation, Dense, Dropout, Embedding, Flatten, Conv1D, MaxPooling1D, LSTM\n",
    "from keras import utils\n",
    "from keras.callbacks import ReduceLROnPlateau, EarlyStopping\n",
    "\n",
    "# nltk\n",
    "from nltk.corpus import stopwords\n",
    "from nltk.stem import SnowballStemmer\n",
    "import nltk\n",
    "nltk.download('stopwords')\n",
    "nltk.download('punkt')\n",
    "nltk.download('averaged_perceptron_tagger')\n",
    "nltk.download('wordnet')\n",
    "from nltk.corpus import stopwords, wordnet\n",
    "from nltk.stem import WordNetLemmatizer\n",
    "from nltk.tokenize import word_tokenize\n",
    "from nltk.probability import FreqDist\n",
    "import nltk\n",
    "nltk.download('omw-1.4')\n",
    "\n",
    "# Word2vec\n",
    "import gensim\n",
    "from gensim.test.utils import common_texts\n",
    "from gensim.models import Word2Vec\n",
    "\n",
    "\n",
    "# Utility\n",
    "import string\n",
    "import re\n",
    "import numpy as np\n",
    "import os\n",
    "from collections import Counter\n",
    "import logging\n",
    "import time\n",
    "import pickle\n",
    "import itertools\n",
    "import random\n",
    "import datetime\n",
    "\n",
    "# WordCloud\n",
    "from PIL import Image\n",
    "from wordcloud import WordCloud, STOPWORDS, ImageColorGenerator\n",
    "from collections import Counter, defaultdict\n",
    "\n",
    "# Warnings\n",
    "import warnings \n",
    "warnings.filterwarnings('ignore')\n",
    "\n",
    "# Set log\n",
    "logging.basicConfig(format='%(asctime)s : %(levelname)s : %(message)s', level=logging.INFO)\n"
   ]
  },
  {
   "cell_type": "code",
   "execution_count": null,
   "metadata": {
    "execution": {
     "iopub.execute_input": "2022-09-09T19:03:02.569809Z",
     "iopub.status.busy": "2022-09-09T19:03:02.568822Z",
     "iopub.status.idle": "2022-09-09T19:03:03.487601Z",
     "shell.execute_reply": "2022-09-09T19:03:03.486402Z",
     "shell.execute_reply.started": "2022-09-09T19:03:02.569747Z"
    }
   },
   "outputs": [],
   "source": [
    "df = pd.read_csv(\"../input/twitter-sentiment-dataset/Twitter_Data.csv\") \n",
    "df"
   ]
  },
  {
   "cell_type": "code",
   "execution_count": null,
   "metadata": {
    "execution": {
     "iopub.execute_input": "2022-09-09T19:03:03.489348Z",
     "iopub.status.busy": "2022-09-09T19:03:03.488951Z",
     "iopub.status.idle": "2022-09-09T19:03:03.508573Z",
     "shell.execute_reply": "2022-09-09T19:03:03.507297Z",
     "shell.execute_reply.started": "2022-09-09T19:03:03.489290Z"
    }
   },
   "outputs": [],
   "source": [
    "df.head(5)"
   ]
  },
  {
   "cell_type": "code",
   "execution_count": null,
   "metadata": {
    "execution": {
     "iopub.execute_input": "2022-09-09T19:03:03.512227Z",
     "iopub.status.busy": "2022-09-09T19:03:03.511809Z",
     "iopub.status.idle": "2022-09-09T19:03:03.531717Z",
     "shell.execute_reply": "2022-09-09T19:03:03.530674Z",
     "shell.execute_reply.started": "2022-09-09T19:03:03.512193Z"
    }
   },
   "outputs": [],
   "source": [
    "df = df[df.category != 0.0]"
   ]
  },
  {
   "cell_type": "code",
   "execution_count": null,
   "metadata": {
    "execution": {
     "iopub.execute_input": "2022-09-09T19:03:03.533588Z",
     "iopub.status.busy": "2022-09-09T19:03:03.533029Z",
     "iopub.status.idle": "2022-09-09T19:03:03.634192Z",
     "shell.execute_reply": "2022-09-09T19:03:03.633095Z",
     "shell.execute_reply.started": "2022-09-09T19:03:03.533547Z"
    }
   },
   "outputs": [],
   "source": [
    "df.drop_duplicates()\n",
    "df.info()"
   ]
  },
  {
   "cell_type": "code",
   "execution_count": null,
   "metadata": {
    "execution": {
     "iopub.execute_input": "2022-09-09T19:03:03.636470Z",
     "iopub.status.busy": "2022-09-09T19:03:03.635828Z",
     "iopub.status.idle": "2022-09-09T19:03:03.646878Z",
     "shell.execute_reply": "2022-09-09T19:03:03.645587Z",
     "shell.execute_reply.started": "2022-09-09T19:03:03.636421Z"
    }
   },
   "outputs": [],
   "source": [
    "DATASET_COLUMNS = [\"clean_text\", \"category\"]\n",
    "DATASET_ENCODING = \"ISO-8859-1\"\n",
    "TRAIN_SIZE = 0.8\n",
    "\n",
    "\n",
    "W2V_SIZE = 300\n",
    "W2V_WINDOW = 7\n",
    "W2V_EPOCH = 32\n",
    "W2V_MIN_COUNT = 10\n",
    "\n",
    "\n",
    "SEQUENCE_LENGTH = 300\n",
    "EPOCHS = 8\n",
    "BATCH_SIZE = 1024\n",
    "\n",
    "\n",
    "POSITIVE = \"POSITIVE\"\n",
    "NEGATIVE = \"NEGATIVE\"\n",
    "NEUTRAL = \"NEUTRAL\"\n",
    "SENTIMENT_THRESHOLDS = (0.4, 0.7)\n",
    "\n",
    "KERAS_MODEL = \"model.h5\"\n",
    "WORD2VEC_MODEL = \"model.w2v\"\n",
    "TOKENIZER_MODEL = \"tokenizer.pkl\"\n",
    "ENCODER_MODEL = \"encoder.pkl\"\n",
    "\n",
    "\n",
    "plt.style.use('fivethirtyeight')\n",
    "pd.options.display.max_columns = 250\n",
    "pd.options.display.max_rows = 250\n"
   ]
  },
  {
   "cell_type": "code",
   "execution_count": null,
   "metadata": {
    "execution": {
     "iopub.execute_input": "2022-09-09T19:03:03.649523Z",
     "iopub.status.busy": "2022-09-09T19:03:03.648377Z",
     "iopub.status.idle": "2022-09-09T19:03:03.673645Z",
     "shell.execute_reply": "2022-09-09T19:03:03.672572Z",
     "shell.execute_reply.started": "2022-09-09T19:03:03.649479Z"
    }
   },
   "outputs": [],
   "source": [
    "df.isnull().sum()"
   ]
  },
  {
   "cell_type": "code",
   "execution_count": null,
   "metadata": {
    "execution": {
     "iopub.execute_input": "2022-09-09T19:03:03.675654Z",
     "iopub.status.busy": "2022-09-09T19:03:03.675283Z",
     "iopub.status.idle": "2022-09-09T19:03:03.716216Z",
     "shell.execute_reply": "2022-09-09T19:03:03.715007Z",
     "shell.execute_reply.started": "2022-09-09T19:03:03.675623Z"
    }
   },
   "outputs": [],
   "source": [
    "df.dropna(how='any', inplace=True) # Removed these rows as the count is small and will not affect overall modelling\n",
    "df.isnull().sum()"
   ]
  },
  {
   "cell_type": "code",
   "execution_count": null,
   "metadata": {
    "execution": {
     "iopub.execute_input": "2022-09-09T19:03:03.718515Z",
     "iopub.status.busy": "2022-09-09T19:03:03.718024Z",
     "iopub.status.idle": "2022-09-09T19:03:03.724270Z",
     "shell.execute_reply": "2022-09-09T19:03:03.723461Z",
     "shell.execute_reply.started": "2022-09-09T19:03:03.718471Z"
    }
   },
   "outputs": [],
   "source": [
    "decode_map = {-1.0: \"NEGATIVE\", 1.0: \"POSITIVE\"}\n",
    "def decode_sentiment(label):\n",
    "    return decode_map[int(label)]"
   ]
  },
  {
   "cell_type": "code",
   "execution_count": null,
   "metadata": {
    "execution": {
     "iopub.execute_input": "2022-09-09T19:03:03.728724Z",
     "iopub.status.busy": "2022-09-09T19:03:03.728006Z",
     "iopub.status.idle": "2022-09-09T19:03:03.794265Z",
     "shell.execute_reply": "2022-09-09T19:03:03.793103Z",
     "shell.execute_reply.started": "2022-09-09T19:03:03.728683Z"
    }
   },
   "outputs": [],
   "source": [
    "%%time\n",
    "df.category = df.category.apply(lambda x: decode_sentiment(x))"
   ]
  },
  {
   "cell_type": "code",
   "execution_count": null,
   "metadata": {
    "execution": {
     "iopub.execute_input": "2022-09-09T19:03:03.795873Z",
     "iopub.status.busy": "2022-09-09T19:03:03.795511Z",
     "iopub.status.idle": "2022-09-09T19:03:04.054720Z",
     "shell.execute_reply": "2022-09-09T19:03:04.053516Z",
     "shell.execute_reply.started": "2022-09-09T19:03:03.795838Z"
    }
   },
   "outputs": [],
   "source": [
    "category_cnt = Counter(df.category)\n",
    "\n",
    "plt.figure(figsize=(16,8))\n",
    "plt.bar(category_cnt.keys(), category_cnt.values())\n",
    "plt.title(\"Dataset labels distribuition\")"
   ]
  },
  {
   "cell_type": "code",
   "execution_count": null,
   "metadata": {
    "execution": {
     "iopub.execute_input": "2022-09-09T19:03:04.058570Z",
     "iopub.status.busy": "2022-09-09T19:03:04.057600Z",
     "iopub.status.idle": "2022-09-09T19:03:04.070033Z",
     "shell.execute_reply": "2022-09-09T19:03:04.069056Z",
     "shell.execute_reply.started": "2022-09-09T19:03:04.058488Z"
    }
   },
   "outputs": [],
   "source": [
    "# Including Stopwords and exclusing 'not' related stopwords\n",
    "\n",
    "stop_words = set(stopwords.words(\"english\"))\n",
    "stop_words.remove('not')\n",
    "more_stopwords = {'one', 'br', 'Po', 'th', 'sayi', 'fo', 'Unknown'}\n",
    "stop_words = stop_words.union(more_stopwords)\n",
    "                 \n",
    "stemmer = SnowballStemmer(\"english\")"
   ]
  },
  {
   "cell_type": "code",
   "execution_count": null,
   "metadata": {
    "execution": {
     "iopub.execute_input": "2022-09-09T19:03:04.072343Z",
     "iopub.status.busy": "2022-09-09T19:03:04.071387Z",
     "iopub.status.idle": "2022-09-09T19:03:07.026164Z",
     "shell.execute_reply": "2022-09-09T19:03:07.025106Z",
     "shell.execute_reply.started": "2022-09-09T19:03:04.072288Z"
    }
   },
   "outputs": [],
   "source": [
    "def remove_URL(text):\n",
    "    url = re.compile(r'https?://\\S+|www\\.\\S+')\n",
    "    return url.sub(r'', text)\n",
    "\n",
    "\n",
    "def remove_emoji(text):\n",
    "    emoji_pattern = re.compile(\n",
    "        '['\n",
    "        u'\\U0001F600-\\U0001F64F'  # emoticons\n",
    "        u'\\U0001F300-\\U0001F5FF'  # symbols & pictographs\n",
    "        u'\\U0001F680-\\U0001F6FF'  # transport & map symbols\n",
    "        u'\\U0001F1E0-\\U0001F1FF'  # flags (iOS)\n",
    "        u'\\U00002702-\\U000027B0'\n",
    "        u'\\U000024C2-\\U0001F251'\n",
    "        ']+',\n",
    "        flags=re.UNICODE)\n",
    "    return emoji_pattern.sub(r'', text)\n",
    "\n",
    "\n",
    "def remove_html(text):\n",
    "    html = re.compile(r'^[^ ]<.*?>|&([a-z0-9]+|#[0-9]\\\"\\'\\“{1,6}|#x[0-9a-f]{1,6});[^A-Za-z0-9]+')\n",
    "    return re.sub(html, '', text)\n",
    "\n",
    "\n",
    "def remove_punct(text):\n",
    "    table = str.maketrans('', '', string.punctuation)\n",
    "    return text.translate(table)\n",
    "\n",
    "def remove_quotes(text):\n",
    "    quotes = re.compile(r'[^A-Za-z0-9\\s]+')\n",
    "    return re.sub(quotes, '', text)\n",
    "\n",
    "\n",
    "# Applying helper functions\n",
    "\n",
    "df['mod_text'] = df['clean_text'].apply(lambda x: remove_URL(x))\n",
    "df['mod_text'] = df['mod_text'].apply(lambda x: remove_emoji(x))\n",
    "df['mod_text'] = df['mod_text'].apply(lambda x: remove_html(x))\n",
    "df['mod_text'] = df['mod_text'].apply(lambda x: remove_punct(x))\n",
    "df['mod_text'] = df['mod_text'].apply(lambda x: remove_quotes(x))\n",
    "df.head()"
   ]
  },
  {
   "cell_type": "code",
   "execution_count": null,
   "metadata": {
    "execution": {
     "iopub.execute_input": "2022-09-09T19:03:07.027886Z",
     "iopub.status.busy": "2022-09-09T19:03:07.027565Z",
     "iopub.status.idle": "2022-09-09T19:03:24.305356Z",
     "shell.execute_reply": "2022-09-09T19:03:24.304286Z",
     "shell.execute_reply.started": "2022-09-09T19:03:07.027857Z"
    }
   },
   "outputs": [],
   "source": [
    "# Tokenizing the tweet base texts.\n",
    "\n",
    "df['tokenized'] = df['mod_text'].apply(word_tokenize)\n",
    "\n",
    "df.head()"
   ]
  },
  {
   "cell_type": "code",
   "execution_count": null,
   "metadata": {
    "execution": {
     "iopub.execute_input": "2022-09-09T19:03:24.307051Z",
     "iopub.status.busy": "2022-09-09T19:03:24.306717Z",
     "iopub.status.idle": "2022-09-09T19:03:25.213437Z",
     "shell.execute_reply": "2022-09-09T19:03:25.212306Z",
     "shell.execute_reply.started": "2022-09-09T19:03:24.307020Z"
    }
   },
   "outputs": [],
   "source": [
    "# Lower casing clean text.\n",
    "\n",
    "df['lower'] = df['tokenized'].apply(\n",
    "    lambda x: [word.lower() for word in x])\n",
    "\n",
    "df.head()"
   ]
  },
  {
   "cell_type": "code",
   "execution_count": null,
   "metadata": {
    "execution": {
     "iopub.execute_input": "2022-09-09T19:03:25.215369Z",
     "iopub.status.busy": "2022-09-09T19:03:25.214960Z",
     "iopub.status.idle": "2022-09-09T19:03:25.706249Z",
     "shell.execute_reply": "2022-09-09T19:03:25.705032Z",
     "shell.execute_reply.started": "2022-09-09T19:03:25.215311Z"
    }
   },
   "outputs": [],
   "source": [
    "# Removing stopwords.\n",
    "\n",
    "df['stopwords_removed'] = df['lower'].apply(\n",
    "    lambda x: [word for word in x if word not in stop_words])\n",
    "\n",
    "df.head()"
   ]
  },
  {
   "cell_type": "code",
   "execution_count": null,
   "metadata": {
    "execution": {
     "iopub.execute_input": "2022-09-09T19:03:25.708394Z",
     "iopub.status.busy": "2022-09-09T19:03:25.707912Z",
     "iopub.status.idle": "2022-09-09T19:05:42.496346Z",
     "shell.execute_reply": "2022-09-09T19:05:42.495480Z",
     "shell.execute_reply.started": "2022-09-09T19:03:25.708348Z"
    }
   },
   "outputs": [],
   "source": [
    "# Applying part of speech tags.\n",
    "\n",
    "df['pos_tags'] = df['stopwords_removed'].apply(nltk.tag.pos_tag)\n",
    "\n",
    "df.head()"
   ]
  },
  {
   "cell_type": "code",
   "execution_count": null,
   "metadata": {
    "execution": {
     "iopub.execute_input": "2022-09-09T19:05:43.197960Z",
     "iopub.status.busy": "2022-09-09T19:05:43.197636Z",
     "iopub.status.idle": "2022-09-09T19:05:47.176962Z",
     "shell.execute_reply": "2022-09-09T19:05:47.175849Z",
     "shell.execute_reply.started": "2022-09-09T19:05:43.197922Z"
    }
   },
   "outputs": [],
   "source": [
    "def get_wordnet_pos(tag):\n",
    "    if tag.startswith('J'):\n",
    "        return wordnet.ADJ\n",
    "    elif tag.startswith('V'):\n",
    "        return wordnet.VERB\n",
    "    elif tag.startswith('N'):\n",
    "        return wordnet.NOUN\n",
    "    elif tag.startswith('R'):\n",
    "        return wordnet.ADV\n",
    "    else:\n",
    "        return wordnet.NOUN\n",
    "\n",
    "\n",
    "df['wordnet_pos'] = df['pos_tags'].apply(\n",
    "    lambda x: [(word, get_wordnet_pos(pos_tag)) for (word, pos_tag) in x])\n",
    "\n",
    "df.head()"
   ]
  },
  {
   "cell_type": "code",
   "execution_count": null,
   "metadata": {
    "execution": {
     "iopub.execute_input": "2022-09-09T19:05:47.179239Z",
     "iopub.status.busy": "2022-09-09T19:05:47.178621Z",
     "iopub.status.idle": "2022-09-09T19:05:56.874367Z",
     "shell.execute_reply": "2022-09-09T19:05:56.873198Z",
     "shell.execute_reply.started": "2022-09-09T19:05:47.179195Z"
    }
   },
   "outputs": [],
   "source": [
    "# Applying word lemmatizer.\n",
    "\n",
    "wnl = WordNetLemmatizer()\n",
    "\n",
    "df['lemmatized'] = df['wordnet_pos'].apply(\n",
    "    lambda x: [wnl.lemmatize(word, tag) for word, tag in x])\n",
    "\n",
    "df['lemmatized'] = df['lemmatized'].apply(\n",
    "    lambda x: [word for word in x if word not in stop_words])\n",
    "\n",
    "df['lemma_str'] = [' '.join(map(str, l)) for l in df['lemmatized']]\n",
    "\n",
    "df.head()"
   ]
  },
  {
   "cell_type": "code",
   "execution_count": null,
   "metadata": {
    "execution": {
     "iopub.execute_input": "2022-09-09T19:05:56.876307Z",
     "iopub.status.busy": "2022-09-09T19:05:56.875842Z",
     "iopub.status.idle": "2022-09-09T19:05:56.882687Z",
     "shell.execute_reply": "2022-09-09T19:05:56.881520Z",
     "shell.execute_reply.started": "2022-09-09T19:05:56.876150Z"
    }
   },
   "outputs": [],
   "source": [
    "print(\"Total Rows =\", len(df.clean_text))"
   ]
  },
  {
   "cell_type": "code",
   "execution_count": null,
   "metadata": {
    "execution": {
     "iopub.execute_input": "2022-09-09T19:05:56.884472Z",
     "iopub.status.busy": "2022-09-09T19:05:56.884100Z",
     "iopub.status.idle": "2022-09-09T19:05:56.966341Z",
     "shell.execute_reply": "2022-09-09T19:05:56.965163Z",
     "shell.execute_reply.started": "2022-09-09T19:05:56.884440Z"
    }
   },
   "outputs": [],
   "source": [
    "df.head()"
   ]
  },
  {
   "cell_type": "code",
   "execution_count": null,
   "metadata": {
    "execution": {
     "iopub.execute_input": "2022-09-09T19:05:56.968070Z",
     "iopub.status.busy": "2022-09-09T19:05:56.967701Z",
     "iopub.status.idle": "2022-09-09T19:05:57.051083Z",
     "shell.execute_reply": "2022-09-09T19:05:57.049941Z",
     "shell.execute_reply.started": "2022-09-09T19:05:56.968013Z"
    }
   },
   "outputs": [],
   "source": [
    "df_mod = df[[\"lemma_str\", \"category\"]]\n",
    "df_mod.head()"
   ]
  },
  {
   "cell_type": "code",
   "execution_count": null,
   "metadata": {
    "execution": {
     "iopub.execute_input": "2022-09-09T19:05:57.052825Z",
     "iopub.status.busy": "2022-09-09T19:05:57.052480Z",
     "iopub.status.idle": "2022-09-09T19:05:57.077546Z",
     "shell.execute_reply": "2022-09-09T19:05:57.076517Z",
     "shell.execute_reply.started": "2022-09-09T19:05:57.052793Z"
    }
   },
   "outputs": [],
   "source": [
    "df_train, df_test = train_test_split(df_mod, test_size=1-TRAIN_SIZE, random_state=42)\n",
    "print(\"TRAIN size:\", len(df_train))\n",
    "print(\"TEST size:\", len(df_test))"
   ]
  },
  {
   "cell_type": "code",
   "execution_count": null,
   "metadata": {
    "execution": {
     "iopub.execute_input": "2022-09-09T19:05:57.079315Z",
     "iopub.status.busy": "2022-09-09T19:05:57.078969Z",
     "iopub.status.idle": "2022-09-09T19:05:57.088623Z",
     "shell.execute_reply": "2022-09-09T19:05:57.087714Z",
     "shell.execute_reply.started": "2022-09-09T19:05:57.079282Z"
    }
   },
   "outputs": [],
   "source": [
    "def plot_wordcloud(text, mask, title, title_size, figure_size=(24.0,16.0), image_color=False):\n",
    "    \"\"\" A function for creating wordcloud images \"\"\"\n",
    "    words = text\n",
    "    allwords = []\n",
    "    for wordlist in words:\n",
    "        allwords += wordlist\n",
    "    mostcommon = FreqDist(allwords).most_common(140)\n",
    "    wordcloud = WordCloud(\n",
    "                    background_color='white',\n",
    "                    stopwords = stop_words,\n",
    "                    max_words = 140,\n",
    "                    max_font_size = 120, \n",
    "                    random_state = 42,\n",
    "                    mask = mask,\n",
    "    ).generate(str(mostcommon))        \n",
    "    \n",
    "    ########\n",
    "    \n",
    "    plt.figure(figsize=figure_size)\n",
    "    if image_color:\n",
    "        image_colors = ImageColorGenerator(mask);\n",
    "        plt.imshow(wordcloud.recolor(color_func=image_colors), interpolation=\"bilinear\");\n",
    "        plt.title(title, fontdict={'size': title_size,  \n",
    "                                  'verticalalignment': 'bottom'})\n",
    "    else:\n",
    "        plt.imshow(wordcloud);\n",
    "        plt.title(title, fontdict={'size': title_size, 'color': 'green', \n",
    "                                  'verticalalignment': 'bottom'})\n",
    "    plt.axis('off');\n",
    "    plt.tight_layout()  \n",
    "    "
   ]
  },
  {
   "cell_type": "code",
   "execution_count": null,
   "metadata": {
    "execution": {
     "iopub.execute_input": "2022-09-09T20:31:21.369496Z",
     "iopub.status.busy": "2022-09-09T20:31:21.369042Z",
     "iopub.status.idle": "2022-09-09T20:31:30.124046Z",
     "shell.execute_reply": "2022-09-09T20:31:30.122842Z",
     "shell.execute_reply.started": "2022-09-09T20:31:21.369453Z"
    }
   },
   "outputs": [],
   "source": [
    "comments_mask = np.array(Image.open('../input/masks/comment.png'))\n",
    "plot_wordcloud(df['lemmatized'], comments_mask,\n",
    "               'Most Common Words',\n",
    "               title_size=30)"
   ]
  },
  {
   "cell_type": "code",
   "execution_count": null,
   "metadata": {
    "execution": {
     "iopub.execute_input": "2022-09-09T19:06:05.200106Z",
     "iopub.status.busy": "2022-09-09T19:06:05.199322Z",
     "iopub.status.idle": "2022-09-09T19:06:06.031401Z",
     "shell.execute_reply": "2022-09-09T19:06:06.030105Z",
     "shell.execute_reply.started": "2022-09-09T19:06:05.200053Z"
    }
   },
   "outputs": [],
   "source": [
    "%%time\n",
    "documents = [text.split() for text in df_train.lemma_str] "
   ]
  },
  {
   "cell_type": "code",
   "execution_count": null,
   "metadata": {
    "execution": {
     "iopub.execute_input": "2022-09-09T19:06:06.039419Z",
     "iopub.status.busy": "2022-09-09T19:06:06.039038Z",
     "iopub.status.idle": "2022-09-09T19:06:06.045487Z",
     "shell.execute_reply": "2022-09-09T19:06:06.044446Z",
     "shell.execute_reply.started": "2022-09-09T19:06:06.039386Z"
    }
   },
   "outputs": [],
   "source": [
    "w2v_model = gensim.models.word2vec.Word2Vec(vector_size=W2V_SIZE, \n",
    "                                            window=W2V_WINDOW, \n",
    "                                            min_count=W2V_MIN_COUNT, \n",
    "                                            workers=8)"
   ]
  },
  {
   "cell_type": "code",
   "execution_count": null,
   "metadata": {
    "execution": {
     "iopub.execute_input": "2022-09-09T19:06:06.047250Z",
     "iopub.status.busy": "2022-09-09T19:06:06.046766Z",
     "iopub.status.idle": "2022-09-09T19:06:06.719931Z",
     "shell.execute_reply": "2022-09-09T19:06:06.718944Z",
     "shell.execute_reply.started": "2022-09-09T19:06:06.047219Z"
    }
   },
   "outputs": [],
   "source": [
    "w2v_model.build_vocab(documents)"
   ]
  },
  {
   "cell_type": "code",
   "execution_count": null,
   "metadata": {
    "execution": {
     "iopub.execute_input": "2022-09-09T19:06:06.721681Z",
     "iopub.status.busy": "2022-09-09T19:06:06.721299Z",
     "iopub.status.idle": "2022-09-09T19:06:06.728123Z",
     "shell.execute_reply": "2022-09-09T19:06:06.727246Z",
     "shell.execute_reply.started": "2022-09-09T19:06:06.721648Z"
    }
   },
   "outputs": [],
   "source": [
    "words = w2v_model.wv.key_to_index.keys()\n",
    "vocab_size = len(words)\n",
    "print(\"Vocab size\", vocab_size)\n"
   ]
  },
  {
   "cell_type": "code",
   "execution_count": null,
   "metadata": {
    "execution": {
     "iopub.execute_input": "2022-09-09T19:06:06.729927Z",
     "iopub.status.busy": "2022-09-09T19:06:06.729580Z",
     "iopub.status.idle": "2022-09-09T19:06:53.733569Z",
     "shell.execute_reply": "2022-09-09T19:06:53.732246Z",
     "shell.execute_reply.started": "2022-09-09T19:06:06.729895Z"
    }
   },
   "outputs": [],
   "source": [
    "%%time\n",
    "w2v_model.train(documents, total_examples=len(documents), epochs=W2V_EPOCH)"
   ]
  },
  {
   "cell_type": "code",
   "execution_count": null,
   "metadata": {
    "execution": {
     "iopub.execute_input": "2022-09-09T19:06:53.735588Z",
     "iopub.status.busy": "2022-09-09T19:06:53.735115Z",
     "iopub.status.idle": "2022-09-09T19:06:53.759035Z",
     "shell.execute_reply": "2022-09-09T19:06:53.757800Z",
     "shell.execute_reply.started": "2022-09-09T19:06:53.735542Z"
    }
   },
   "outputs": [],
   "source": [
    "w2v_model.wv.most_similar(\"bjp\")"
   ]
  },
  {
   "cell_type": "code",
   "execution_count": null,
   "metadata": {
    "execution": {
     "iopub.execute_input": "2022-09-09T19:06:53.767161Z",
     "iopub.status.busy": "2022-09-09T19:06:53.761033Z",
     "iopub.status.idle": "2022-09-09T19:06:55.957718Z",
     "shell.execute_reply": "2022-09-09T19:06:55.954886Z",
     "shell.execute_reply.started": "2022-09-09T19:06:53.767108Z"
    }
   },
   "outputs": [],
   "source": [
    "%%time\n",
    "tokenizer = Tokenizer()\n",
    "tokenizer.fit_on_texts(df_train.lemma_str)\n",
    "\n",
    "vocab_size = len(tokenizer.word_index) + 1\n",
    "print(\"Total words\", vocab_size)"
   ]
  },
  {
   "cell_type": "code",
   "execution_count": null,
   "metadata": {
    "execution": {
     "iopub.execute_input": "2022-09-09T19:06:55.960371Z",
     "iopub.status.busy": "2022-09-09T19:06:55.959760Z",
     "iopub.status.idle": "2022-09-09T19:06:58.431519Z",
     "shell.execute_reply": "2022-09-09T19:06:58.430373Z",
     "shell.execute_reply.started": "2022-09-09T19:06:55.960302Z"
    }
   },
   "outputs": [],
   "source": [
    "%%time\n",
    "x_train = pad_sequences(tokenizer.texts_to_sequences(df_train.lemma_str), maxlen=SEQUENCE_LENGTH)\n",
    "x_test = pad_sequences(tokenizer.texts_to_sequences(df_test.lemma_str), maxlen=SEQUENCE_LENGTH)"
   ]
  },
  {
   "cell_type": "code",
   "execution_count": null,
   "metadata": {
    "execution": {
     "iopub.execute_input": "2022-09-09T19:06:58.433288Z",
     "iopub.status.busy": "2022-09-09T19:06:58.432923Z",
     "iopub.status.idle": "2022-09-09T19:06:58.446584Z",
     "shell.execute_reply": "2022-09-09T19:06:58.445457Z",
     "shell.execute_reply.started": "2022-09-09T19:06:58.433254Z"
    }
   },
   "outputs": [],
   "source": [
    "labels = df_train.category.unique().tolist()\n",
    "labels.append(NEUTRAL)\n",
    "labels"
   ]
  },
  {
   "cell_type": "code",
   "execution_count": null,
   "metadata": {
    "execution": {
     "iopub.execute_input": "2022-09-09T19:06:58.448214Z",
     "iopub.status.busy": "2022-09-09T19:06:58.447874Z",
     "iopub.status.idle": "2022-09-09T19:06:58.555465Z",
     "shell.execute_reply": "2022-09-09T19:06:58.554386Z",
     "shell.execute_reply.started": "2022-09-09T19:06:58.448183Z"
    }
   },
   "outputs": [],
   "source": [
    "encoder = LabelEncoder()\n",
    "encoder.fit(df_train.category.tolist())\n",
    "\n",
    "y_train = encoder.transform(df_train.category.tolist())\n",
    "y_test = encoder.transform(df_test.category.tolist())\n",
    "\n",
    "y_train = y_train.reshape(-1,1)\n",
    "y_test = y_test.reshape(-1,1)\n",
    "\n",
    "print(\"y_train\",y_train.shape)\n",
    "print(\"y_test\",y_test.shape)"
   ]
  },
  {
   "cell_type": "code",
   "execution_count": null,
   "metadata": {
    "execution": {
     "iopub.execute_input": "2022-09-09T19:06:58.557385Z",
     "iopub.status.busy": "2022-09-09T19:06:58.556930Z",
     "iopub.status.idle": "2022-09-09T19:06:58.564573Z",
     "shell.execute_reply": "2022-09-09T19:06:58.563298Z",
     "shell.execute_reply.started": "2022-09-09T19:06:58.557323Z"
    }
   },
   "outputs": [],
   "source": [
    "print(\"x_train\", x_train.shape)\n",
    "print(\"y_train\", y_train.shape)\n",
    "print()\n",
    "print(\"x_test\", x_test.shape)\n",
    "print(\"y_test\", y_test.shape)"
   ]
  },
  {
   "cell_type": "code",
   "execution_count": null,
   "metadata": {
    "execution": {
     "iopub.execute_input": "2022-09-09T19:06:58.566322Z",
     "iopub.status.busy": "2022-09-09T19:06:58.565927Z",
     "iopub.status.idle": "2022-09-09T19:06:58.578486Z",
     "shell.execute_reply": "2022-09-09T19:06:58.577355Z",
     "shell.execute_reply.started": "2022-09-09T19:06:58.566292Z"
    }
   },
   "outputs": [],
   "source": [
    "y_train[:10]"
   ]
  },
  {
   "cell_type": "code",
   "execution_count": null,
   "metadata": {
    "execution": {
     "iopub.execute_input": "2022-09-09T19:06:58.581467Z",
     "iopub.status.busy": "2022-09-09T19:06:58.580956Z",
     "iopub.status.idle": "2022-09-09T19:06:58.713191Z",
     "shell.execute_reply": "2022-09-09T19:06:58.712107Z",
     "shell.execute_reply.started": "2022-09-09T19:06:58.581359Z"
    }
   },
   "outputs": [],
   "source": [
    "embedding_matrix = np.zeros((vocab_size, W2V_SIZE))\n",
    "for word, i in tokenizer.word_index.items():\n",
    "  if word in w2v_model.wv:\n",
    "    embedding_matrix[i] = w2v_model.wv[word]\n",
    "print(embedding_matrix.shape)"
   ]
  },
  {
   "cell_type": "code",
   "execution_count": null,
   "metadata": {
    "execution": {
     "iopub.execute_input": "2022-09-09T19:06:58.715043Z",
     "iopub.status.busy": "2022-09-09T19:06:58.714709Z",
     "iopub.status.idle": "2022-09-09T19:06:58.744997Z",
     "shell.execute_reply": "2022-09-09T19:06:58.744050Z",
     "shell.execute_reply.started": "2022-09-09T19:06:58.715012Z"
    }
   },
   "outputs": [],
   "source": [
    "embedding_layer = Embedding(vocab_size, W2V_SIZE, weights=[embedding_matrix], input_length=SEQUENCE_LENGTH, trainable=False)"
   ]
  },
  {
   "cell_type": "code",
   "execution_count": null,
   "metadata": {
    "execution": {
     "iopub.execute_input": "2022-09-09T19:06:58.746985Z",
     "iopub.status.busy": "2022-09-09T19:06:58.746409Z",
     "iopub.status.idle": "2022-09-09T19:06:59.325649Z",
     "shell.execute_reply": "2022-09-09T19:06:59.324490Z",
     "shell.execute_reply.started": "2022-09-09T19:06:58.746946Z"
    }
   },
   "outputs": [],
   "source": [
    "model = Sequential()\n",
    "model.add(embedding_layer)\n",
    "model.add(Dropout(0.5))\n",
    "model.add(LSTM(100, dropout=0.2, recurrent_dropout=0.2))\n",
    "model.add(Dense(1, activation='sigmoid'))\n",
    "\n",
    "model.summary()"
   ]
  },
  {
   "cell_type": "code",
   "execution_count": null,
   "metadata": {
    "execution": {
     "iopub.execute_input": "2022-09-09T19:06:59.327920Z",
     "iopub.status.busy": "2022-09-09T19:06:59.327122Z",
     "iopub.status.idle": "2022-09-09T19:06:59.342596Z",
     "shell.execute_reply": "2022-09-09T19:06:59.341388Z",
     "shell.execute_reply.started": "2022-09-09T19:06:59.327884Z"
    }
   },
   "outputs": [],
   "source": [
    "model.compile(loss='binary_crossentropy',\n",
    "              optimizer=\"adam\",\n",
    "              metrics=['accuracy'])"
   ]
  },
  {
   "cell_type": "code",
   "execution_count": null,
   "metadata": {
    "execution": {
     "iopub.execute_input": "2022-09-09T19:06:59.345079Z",
     "iopub.status.busy": "2022-09-09T19:06:59.344470Z",
     "iopub.status.idle": "2022-09-09T19:06:59.352120Z",
     "shell.execute_reply": "2022-09-09T19:06:59.351013Z",
     "shell.execute_reply.started": "2022-09-09T19:06:59.344911Z"
    }
   },
   "outputs": [],
   "source": [
    "callbacks = [ ReduceLROnPlateau(monitor='val_loss', patience=5, cooldown=0),\n",
    "              EarlyStopping(monitor='val_acc', min_delta=1e-4, patience=5)]"
   ]
  },
  {
   "cell_type": "code",
   "execution_count": null,
   "metadata": {
    "execution": {
     "iopub.execute_input": "2022-09-09T19:06:59.354282Z",
     "iopub.status.busy": "2022-09-09T19:06:59.353659Z",
     "iopub.status.idle": "2022-09-09T20:22:08.631643Z",
     "shell.execute_reply": "2022-09-09T20:22:08.629686Z",
     "shell.execute_reply.started": "2022-09-09T19:06:59.354248Z"
    }
   },
   "outputs": [],
   "source": [
    "%%time\n",
    "history = model.fit(x_train, y_train,\n",
    "                    batch_size=BATCH_SIZE,\n",
    "                    epochs=EPOCHS,\n",
    "                    validation_split=0.1,\n",
    "                    verbose=1,\n",
    "                    callbacks=callbacks)"
   ]
  },
  {
   "cell_type": "code",
   "execution_count": null,
   "metadata": {
    "execution": {
     "iopub.execute_input": "2022-09-09T20:22:08.635001Z",
     "iopub.status.busy": "2022-09-09T20:22:08.634407Z",
     "iopub.status.idle": "2022-09-09T20:22:41.318771Z",
     "shell.execute_reply": "2022-09-09T20:22:41.317776Z",
     "shell.execute_reply.started": "2022-09-09T20:22:08.634934Z"
    }
   },
   "outputs": [],
   "source": [
    "%%time\n",
    "score = model.evaluate(x_test, y_test, batch_size=BATCH_SIZE)\n",
    "print()\n",
    "print(\"ACCURACY:\",score[1])\n",
    "print(\"LOSS:\",score[0])"
   ]
  },
  {
   "cell_type": "code",
   "execution_count": null,
   "metadata": {
    "execution": {
     "iopub.execute_input": "2022-09-09T20:22:41.320476Z",
     "iopub.status.busy": "2022-09-09T20:22:41.320029Z",
     "iopub.status.idle": "2022-09-09T20:22:41.773150Z",
     "shell.execute_reply": "2022-09-09T20:22:41.771902Z",
     "shell.execute_reply.started": "2022-09-09T20:22:41.320439Z"
    }
   },
   "outputs": [],
   "source": [
    "acc = history.history['accuracy']\n",
    "val_acc = history.history['val_accuracy']\n",
    "loss = history.history['loss']\n",
    "val_loss = history.history['val_loss']\n",
    " \n",
    "epochs = range(len(acc))\n",
    " \n",
    "plt.plot(epochs, acc, 'b', label='Training acc')\n",
    "plt.plot(epochs, val_acc, 'r', label='Validation acc')\n",
    "plt.title('Training and validation accuracy')\n",
    "plt.legend()\n",
    " \n",
    "plt.figure()\n",
    " \n",
    "plt.plot(epochs, loss, 'b', label='Training loss')\n",
    "plt.plot(epochs, val_loss, 'r', label='Validation loss')\n",
    "plt.title('Training and validation loss')\n",
    "plt.legend()\n",
    " \n",
    "plt.show()"
   ]
  },
  {
   "cell_type": "code",
   "execution_count": null,
   "metadata": {
    "execution": {
     "iopub.execute_input": "2022-09-09T20:22:41.775945Z",
     "iopub.status.busy": "2022-09-09T20:22:41.775170Z",
     "iopub.status.idle": "2022-09-09T20:22:41.784269Z",
     "shell.execute_reply": "2022-09-09T20:22:41.783083Z",
     "shell.execute_reply.started": "2022-09-09T20:22:41.775899Z"
    }
   },
   "outputs": [],
   "source": [
    "def decode_sentiment(score, include_neutral=True):\n",
    "    if include_neutral:        \n",
    "        label = NEUTRAL ### Whatever not coming in negative and positive sentiments has been considered as neutral\n",
    "        if score <= SENTIMENT_THRESHOLDS[0]:\n",
    "            label = NEGATIVE\n",
    "        elif score >= SENTIMENT_THRESHOLDS[1]:\n",
    "            label = POSITIVE\n",
    "\n",
    "        return label\n",
    "    else:\n",
    "        return NEGATIVE if score < 0.5 else POSITIVE"
   ]
  },
  {
   "cell_type": "code",
   "execution_count": null,
   "metadata": {
    "execution": {
     "iopub.execute_input": "2022-09-09T20:22:41.785986Z",
     "iopub.status.busy": "2022-09-09T20:22:41.785667Z",
     "iopub.status.idle": "2022-09-09T20:22:41.796703Z",
     "shell.execute_reply": "2022-09-09T20:22:41.795568Z",
     "shell.execute_reply.started": "2022-09-09T20:22:41.785957Z"
    }
   },
   "outputs": [],
   "source": [
    "def predict(clean_text, include_neutral=True):\n",
    "    start_at = time.time()\n",
    "    # Tokenize clean_text\n",
    "    x_test = pad_sequences(tokenizer.texts_to_sequences([clean_text]), maxlen=SEQUENCE_LENGTH)\n",
    "    # Predict\n",
    "    score = model.predict([x_test])[0]\n",
    "    # Decode sentiment\n",
    "    label = decode_sentiment(score, include_neutral=include_neutral)\n",
    "\n",
    "    return {\"label\": label, \"score\": float(score),\n",
    "       \"elapsed_time\": time.time()-start_at}  "
   ]
  },
  {
   "cell_type": "code",
   "execution_count": null,
   "metadata": {
    "execution": {
     "iopub.execute_input": "2022-09-09T20:22:41.798798Z",
     "iopub.status.busy": "2022-09-09T20:22:41.798261Z",
     "iopub.status.idle": "2022-09-09T20:22:42.391284Z",
     "shell.execute_reply": "2022-09-09T20:22:42.390048Z",
     "shell.execute_reply.started": "2022-09-09T20:22:41.798762Z"
    }
   },
   "outputs": [],
   "source": [
    "predict(\"I love the music\")"
   ]
  },
  {
   "cell_type": "code",
   "execution_count": null,
   "metadata": {
    "execution": {
     "iopub.execute_input": "2022-09-09T20:22:42.394242Z",
     "iopub.status.busy": "2022-09-09T20:22:42.393093Z",
     "iopub.status.idle": "2022-09-09T20:22:42.621344Z",
     "shell.execute_reply": "2022-09-09T20:22:42.620104Z",
     "shell.execute_reply.started": "2022-09-09T20:22:42.394196Z"
    }
   },
   "outputs": [],
   "source": [
    "predict(\"I have nothing to lose\")"
   ]
  },
  {
   "cell_type": "code",
   "execution_count": null,
   "metadata": {
    "execution": {
     "iopub.execute_input": "2022-09-09T20:22:42.623788Z",
     "iopub.status.busy": "2022-09-09T20:22:42.622912Z",
     "iopub.status.idle": "2022-09-09T20:22:42.848974Z",
     "shell.execute_reply": "2022-09-09T20:22:42.848057Z",
     "shell.execute_reply.started": "2022-09-09T20:22:42.623728Z"
    }
   },
   "outputs": [],
   "source": [
    "predict(\"Experience has been bad\")"
   ]
  },
  {
   "cell_type": "code",
   "execution_count": null,
   "metadata": {
    "execution": {
     "iopub.execute_input": "2022-09-09T20:22:42.851294Z",
     "iopub.status.busy": "2022-09-09T20:22:42.850676Z",
     "iopub.status.idle": "2022-09-09T20:23:12.774238Z",
     "shell.execute_reply": "2022-09-09T20:23:12.773047Z",
     "shell.execute_reply.started": "2022-09-09T20:22:42.851260Z"
    }
   },
   "outputs": [],
   "source": [
    "%%time\n",
    "y_pred_1d = []\n",
    "y_test_1d = list(df_test.category)\n",
    "scores = model.predict(x_test, verbose=1, batch_size=8000)\n",
    "y_pred_1d = [decode_sentiment(score, include_neutral=False) for score in scores]"
   ]
  },
  {
   "cell_type": "code",
   "execution_count": null,
   "metadata": {
    "execution": {
     "iopub.execute_input": "2022-09-09T20:23:12.776378Z",
     "iopub.status.busy": "2022-09-09T20:23:12.776011Z",
     "iopub.status.idle": "2022-09-09T20:23:12.787274Z",
     "shell.execute_reply": "2022-09-09T20:23:12.786048Z",
     "shell.execute_reply.started": "2022-09-09T20:23:12.776344Z"
    }
   },
   "outputs": [],
   "source": [
    "def plot_confusion_matrix(cm, classes,\n",
    "                          title='Confusion matrix',\n",
    "                          cmap=plt.cm.Blues):\n",
    "    \"\"\"\n",
    "    This function prints and plots the confusion matrix.\n",
    "    Normalization can be applied by setting `normalize=True`.\n",
    "    \"\"\"\n",
    "\n",
    "    cm = cm.astype('float') / cm.sum(axis=1)[:, np.newaxis]\n",
    "\n",
    "    plt.imshow(cm, interpolation='nearest', cmap=cmap)\n",
    "    plt.title(title, fontsize=30)\n",
    "    plt.colorbar()\n",
    "    tick_marks = np.arange(len(classes))\n",
    "    plt.xticks(tick_marks, classes, rotation=90, fontsize=22)\n",
    "    plt.yticks(tick_marks, classes, fontsize=22)\n",
    "\n",
    "    fmt = '.2f'\n",
    "    thresh = cm.max() / 2.\n",
    "    for i, j in itertools.product(range(cm.shape[0]), range(cm.shape[1])):\n",
    "        plt.text(j, i, format(cm[i, j], fmt),\n",
    "                 horizontalalignment=\"center\",\n",
    "                 color=\"white\" if cm[i, j] > thresh else \"black\")\n",
    "\n",
    "    plt.ylabel('True label', fontsize=25)\n",
    "    plt.xlabel('Predicted label', fontsize=25)"
   ]
  },
  {
   "cell_type": "code",
   "execution_count": null,
   "metadata": {
    "execution": {
     "iopub.execute_input": "2022-09-09T20:23:12.789460Z",
     "iopub.status.busy": "2022-09-09T20:23:12.789024Z",
     "iopub.status.idle": "2022-09-09T20:23:13.222239Z",
     "shell.execute_reply": "2022-09-09T20:23:13.221120Z",
     "shell.execute_reply.started": "2022-09-09T20:23:12.789424Z"
    }
   },
   "outputs": [],
   "source": [
    "%%time\n",
    "\n",
    "cnf_matrix = confusion_matrix(y_test_1d, y_pred_1d)\n",
    "plt.figure(figsize=(12,12))\n",
    "plot_confusion_matrix(cnf_matrix, classes=df_train.category.unique(), title=\"Confusion matrix\")\n",
    "plt.show()"
   ]
  },
  {
   "cell_type": "code",
   "execution_count": null,
   "metadata": {
    "execution": {
     "iopub.execute_input": "2022-09-09T20:23:13.224630Z",
     "iopub.status.busy": "2022-09-09T20:23:13.224027Z",
     "iopub.status.idle": "2022-09-09T20:23:13.550316Z",
     "shell.execute_reply": "2022-09-09T20:23:13.549224Z",
     "shell.execute_reply.started": "2022-09-09T20:23:13.224594Z"
    }
   },
   "outputs": [],
   "source": [
    "print(classification_report(y_test_1d, y_pred_1d))"
   ]
  },
  {
   "cell_type": "code",
   "execution_count": null,
   "metadata": {
    "execution": {
     "iopub.execute_input": "2022-09-09T20:23:13.552202Z",
     "iopub.status.busy": "2022-09-09T20:23:13.551741Z",
     "iopub.status.idle": "2022-09-09T20:23:13.594483Z",
     "shell.execute_reply": "2022-09-09T20:23:13.593102Z",
     "shell.execute_reply.started": "2022-09-09T20:23:13.552165Z"
    }
   },
   "outputs": [],
   "source": [
    "accuracy_score(y_test_1d, y_pred_1d)"
   ]
  },
  {
   "cell_type": "code",
   "execution_count": null,
   "metadata": {
    "execution": {
     "iopub.execute_input": "2022-09-09T20:23:13.596578Z",
     "iopub.status.busy": "2022-09-09T20:23:13.596209Z",
     "iopub.status.idle": "2022-09-09T20:23:14.274173Z",
     "shell.execute_reply": "2022-09-09T20:23:14.273115Z",
     "shell.execute_reply.started": "2022-09-09T20:23:13.596545Z"
    }
   },
   "outputs": [],
   "source": [
    "model.save(KERAS_MODEL)\n",
    "w2v_model.save(WORD2VEC_MODEL)\n",
    "pickle.dump(tokenizer, open(TOKENIZER_MODEL, \"wb\"), protocol=0)\n",
    "pickle.dump(encoder, open(ENCODER_MODEL, \"wb\"), protocol=0)"
   ]
  }
 ],
 "metadata": {
  "hide_input": false,
  "kernelspec": {
   "display_name": "Python 3 (ipykernel)",
   "language": "python",
   "name": "python3"
  },
  "language_info": {
   "codemirror_mode": {
    "name": "ipython",
    "version": 3
   },
   "file_extension": ".py",
   "mimetype": "text/x-python",
   "name": "python",
   "nbconvert_exporter": "python",
   "pygments_lexer": "ipython3",
   "version": "3.11.4"
  },
  "nbTranslate": {
   "displayLangs": [
    "*"
   ],
   "hotkey": "alt-t",
   "langInMainMenu": true,
   "sourceLang": "en",
   "targetLang": "fr",
   "useGoogleTranslate": true
  },
  "toc": {
   "base_numbering": 1,
   "nav_menu": {},
   "number_sections": true,
   "sideBar": true,
   "skip_h1_title": false,
   "title_cell": "Table of Contents",
   "title_sidebar": "Contents",
   "toc_cell": false,
   "toc_position": {},
   "toc_section_display": true,
   "toc_window_display": false
  },
  "varInspector": {
   "cols": {
    "lenName": 16,
    "lenType": 16,
    "lenVar": 40
   },
   "kernels_config": {
    "python": {
     "delete_cmd_postfix": "",
     "delete_cmd_prefix": "del ",
     "library": "var_list.py",
     "varRefreshCmd": "print(var_dic_list())"
    },
    "r": {
     "delete_cmd_postfix": ") ",
     "delete_cmd_prefix": "rm(",
     "library": "var_list.r",
     "varRefreshCmd": "cat(var_dic_list()) "
    }
   },
   "types_to_exclude": [
    "module",
    "function",
    "builtin_function_or_method",
    "instance",
    "_Feature"
   ],
   "window_display": false
  }
 },
 "nbformat": 4,
 "nbformat_minor": 4
}
